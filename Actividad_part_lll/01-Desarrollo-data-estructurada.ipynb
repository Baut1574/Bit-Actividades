{
 "cells": [
  {
   "cell_type": "markdown",
   "metadata": {},
   "source": [
    "## Preguntas de interes"
   ]
  },
  {
   "cell_type": "markdown",
   "metadata": {},
   "source": [
    "1. **¿Cuál es la cantidad total de viajes que cada cliente solicitó durante los primeros tres meses del año?**\n",
    "\n",
    "2. **¿Qué clientes se destacan en términos de cantidad de servicios solicitados, rentabilidad generada y número de viajes con facturación electrónica durante el año 2024?**\n",
    "3. **¿Qué modalidades se han registrado en los viajes planillados durante el 2024 y en qué municipios se han llevado a cabo?**"
   ]
  }
 ],
 "metadata": {
  "language_info": {
   "name": "python"
  }
 },
 "nbformat": 4,
 "nbformat_minor": 2
}
